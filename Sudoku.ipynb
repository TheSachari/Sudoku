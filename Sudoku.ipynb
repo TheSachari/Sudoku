{
 "cells": [
  {
   "cell_type": "code",
   "execution_count": 21,
   "id": "2ec0d22b-2b92-4249-ac40-b1a67e826a58",
   "metadata": {},
   "outputs": [],
   "source": [
    "def get_zone_from_position(mat, x, y):\n",
    "    x_min = x//3*3\n",
    "    y_min = y//3*3        \n",
    "    return [row[y_min:y_min+3] for row in mat[x_min:x_min+3]]\n",
    "\n",
    "def get_rows_from_position(mat, x):\n",
    "    x_min = x//3*3        \n",
    "    return mat[x_min:x_min+3]\n",
    "\n",
    "def get_cols_from_position(mat, y):\n",
    "    y_min = y//3*3        \n",
    "    return [row[y_min:y_min+3] for row in mat]\n",
    "\n",
    "def get_code_from_position(x, y):\n",
    "    return [round(x//3), round(y//3)]\n",
    "\n",
    "def get_zeros(mat):\n",
    "    return [[idx_r, idx_nb] for idx_r, rows in enumerate(mat) for idx_nb, nb in enumerate(rows) if nb == 0]\n",
    " \n",
    "def matrix2dict(mat):\n",
    "    coord_dic = dict(enumerate(dict(enumerate(row)) for row in mat))\n",
    "    for r, c in coord_dic.items():\n",
    "        for k, v in c.items():\n",
    "            coord_dic[r][k] = [v]\n",
    "    return coord_dic\n",
    "\n",
    "def dict2matrix(coord_dic):\n",
    "    mat = []\n",
    "    for idx_r, idx_c in coord_dic.items():\n",
    "        row = []\n",
    "        for c, l_of_nb in idx_c.items():\n",
    "            if len(l_of_nb) == 1:\n",
    "                row.append(l_of_nb[0])\n",
    "            else:\n",
    "                row.append(0)\n",
    "        mat.append(row)\n",
    "    return mat\n",
    "\n",
    "def is_done(mat):\n",
    "    done = True\n",
    "    dummy = [([0]*9) for i in range(9)]\n",
    "    dic_done = dict(enumerate(dict(enumerate(row)) for row in dummy))\n",
    "    for idx_r, r_of_nb in enumerate(mat):        \n",
    "        for idx_c, nb in enumerate(r_of_nb):\n",
    "            if dic_done[idx_r][idx_c] == 0 and nb > 0:\n",
    "                dic_done[idx_r][idx_c] = nb\n",
    "            else:\n",
    "                done = False\n",
    "                \n",
    "    for k, v in dic_done.items():\n",
    "        row = []\n",
    "        for c, nb in v.items():\n",
    "            row.append(nb)\n",
    "        if len(set(row)) < 9:\n",
    "            done = False\n",
    "                \n",
    "    return done"
   ]
  },
  {
   "cell_type": "code",
   "execution_count": 2,
   "id": "47284356-9fad-4810-b848-6bf132f6064a",
   "metadata": {},
   "outputs": [],
   "source": [
    "def simple_check(mat, x, y, l = list(range(1,10))):\n",
    "\n",
    "    zone = get_zone_from_position(mat, x, y)\n",
    "    current_numbers = list(set(mat[x] + [row[y] for row in mat] + [e for row in zone for e in row]))\n",
    "    return [e for e in l if e not in current_numbers]\n",
    "\n",
    "def zone_zero_check(mat, x, y, coord_dic):\n",
    "    candidates = []\n",
    "    c_position = coord_dic[x][y]\n",
    "    zone = get_zone_from_position(mat, x, y)\n",
    "    code = get_code_from_position(x, y)\n",
    "    zeros = [[r_idx, c_idx]  for r_idx, r in enumerate(zone) for c_idx, c in enumerate(r) if c == 0]\n",
    "    zeros.remove([x%3, y%3]) # remove the current zero\n",
    "    for z in zeros:               \n",
    "        candidates += coord_dic[z[0]+3*code[0]][z[1]+3*code[1]]    \n",
    "    lone_candidates = [e for e in c_position if e not in candidates and e > 0]\n",
    "    if lone_candidates:\n",
    "        return lone_candidates\n",
    "    else:\n",
    "        return []\n",
    "    \n",
    "def row_zero_check(mat, x, y, coord_dic):\n",
    "    candidates = []\n",
    "    c_position = coord_dic[x][y]\n",
    "    zeros = [r_idx for r_idx, r in enumerate(mat[x]) if r == 0]\n",
    "    zeros.remove(y)\n",
    "    for z in zeros:\n",
    "        candidates += coord_dic[x][z]   \n",
    "    lone_candidates = [e for e in c_position if e not in candidates and e > 0]\n",
    "    if lone_candidates:\n",
    "        return lone_candidates\n",
    "    else:\n",
    "        return []\n",
    "    \n",
    "def col_zero_check(mat, x, y, coord_dic):\n",
    "    candidates = []\n",
    "    c_position = coord_dic[x][y]\n",
    "    zeros = [idx_c for idx_c, c in enumerate([row[y] for idx_r, row in enumerate(mat)]) if c == 0]\n",
    "    zeros.remove(x)    \n",
    "    for z in zeros:\n",
    "        candidates += coord_dic[z][y]   \n",
    "    lone_candidates = [e for e in c_position if e not in candidates and e > 0]\n",
    "    if lone_candidates:\n",
    "        return lone_candidates\n",
    "    else:\n",
    "        return []"
   ]
  },
  {
   "cell_type": "markdown",
   "id": "9c689e74-1881-499c-802b-98c930f1b5e3",
   "metadata": {},
   "source": [
    "# Native Python"
   ]
  },
  {
   "cell_type": "code",
   "execution_count": 8,
   "id": "445c5747-98df-4e28-89c6-79639bc0accc",
   "metadata": {},
   "outputs": [],
   "source": [
    "def populate_dict(dic, mat):\n",
    "    zeros = get_zeros(mat)\n",
    "    for [x, y] in zeros:\n",
    "        dic[x][y] = simple_check(mat, x, y)\n",
    "    return dic\n",
    "\n",
    "def update_dict(mat, x, y, dic, l_of_nb):\n",
    "    row_idx = [r_idx  for r_idx, r in enumerate(mat[x]) if r == 0]\n",
    "    row_idx.remove(y)\n",
    "    col_idx = [idx_c for idx_c, c in enumerate([row[y] for idx_r, row in enumerate(mat)]) if c == 0]\n",
    "    col_idx.remove(x)\n",
    "    \n",
    "    update = False\n",
    "    \n",
    "    if len(l_of_nb) == 1:\n",
    "        # print(\"placing\", l_of_nb[0], \"at\", x, y)\n",
    "        update = True\n",
    "        for ci in row_idx:        \n",
    "            if l_of_nb[0] in dic[x][ci]:\n",
    "                # print(\"removing\", l_of_nb[0], \"from square\", x, ci)\n",
    "                dic[x][ci].remove(l_of_nb[0])\n",
    "\n",
    "        for ri in col_idx:\n",
    "            if l_of_nb[0] in dic[ri][y]:\n",
    "                # print(\"removing\", l_of_nb[0], \"from square\", ri, y)\n",
    "                dic[ri][y].remove(l_of_nb[0])\n",
    "                \n",
    "    if len(l_of_nb) >= 1:\n",
    "        dic[x][y] = l_of_nb\n",
    "                \n",
    "    return dic, update  \n",
    "\n",
    "def solve_matrix(mat, limit = 10):\n",
    "\n",
    "    coord_dic = matrix2dict(mat)\n",
    "    mat = dict2matrix(coord_dic)\n",
    "    coord_dic = populate_dict(coord_dic, mat)\n",
    "    mat = dict2matrix(coord_dic)\n",
    "\n",
    "    done = False\n",
    "\n",
    "    while not done and limit:\n",
    "\n",
    "        update = True\n",
    "        limit -= 1\n",
    "\n",
    "        while update:\n",
    "\n",
    "            update = False\n",
    "            zeros = get_zeros(mat)\n",
    "            for [x, y] in zeros:\n",
    "                res = simple_check(mat, x, y)\n",
    "                coord_dic, update = update_dict(mat, x, y, coord_dic, res)\n",
    "                mat = dict2matrix(coord_dic)\n",
    "                if update:\n",
    "                    # print(\"simple check\")\n",
    "                    # print(len(get_zeros(mat)))\n",
    "                    break\n",
    "                res = zone_zero_check(mat, x, y, coord_dic)\n",
    "                coord_dic, update = update_dict(mat, x, y, coord_dic, res)\n",
    "                mat = dict2matrix(coord_dic)\n",
    "                if update:\n",
    "                    # print(\"zone zero check\")\n",
    "                    # print(len(get_zeros(mat)))\n",
    "                    break\n",
    "                res = row_zero_check(mat, x, y, coord_dic)\n",
    "                coord_dic, update = update_dict(mat, x, y, coord_dic, res)\n",
    "                mat = dict2matrix(coord_dic)\n",
    "                if update:\n",
    "                    # print(\"row zero check\")\n",
    "                    # print(len(get_zeros(mat)))\n",
    "                    break\n",
    "                res = col_zero_check(mat, x, y, coord_dic)\n",
    "                coord_dic, update = update_dict(mat, x, y, coord_dic, res)\n",
    "                mat = dict2matrix(coord_dic)\n",
    "                if update:\n",
    "                    # print(\"col zero check\")\n",
    "                    # print(len(get_zeros(mat)))\n",
    "                    break\n",
    "\n",
    "\n",
    "        done = is_done(mat)\n",
    "        \n",
    "        \n",
    "    return mat, done"
   ]
  },
  {
   "cell_type": "code",
   "execution_count": 22,
   "id": "f232b2f0-ced7-40c5-bca5-58d61b32bceb",
   "metadata": {},
   "outputs": [
    {
     "data": {
      "text/plain": [
       "[[7, 2, 0, 0, 0, 0, 0, 0, 0],\n",
       " [0, 3, 0, 5, 0, 0, 0, 0, 9],\n",
       " [0, 0, 9, 3, 7, 0, 0, 0, 0],\n",
       " [4, 9, 0, 0, 0, 0, 0, 2, 1],\n",
       " [1, 0, 0, 2, 0, 4, 0, 0, 6],\n",
       " [6, 8, 0, 0, 0, 0, 0, 4, 5],\n",
       " [0, 0, 0, 0, 8, 6, 3, 0, 0],\n",
       " [3, 0, 0, 0, 0, 5, 0, 9, 0],\n",
       " [0, 0, 0, 0, 0, 0, 0, 5, 4]]"
      ]
     },
     "execution_count": 22,
     "metadata": {},
     "output_type": "execute_result"
    }
   ],
   "source": [
    "# Grille N° 4540 Obs - difficile\n",
    "\n",
    "m = [([0]*9) for i in range(9)]\n",
    "\n",
    "m[0] = [7,2,0,0,0,0,0,0,0]\n",
    "m[1] = [0,3,0,5,0,0,0,0,9]\n",
    "m[2] = [0,0,9,3,7,0,0,0,0]\n",
    "\n",
    "m[3] = [4,9,0,0,0,0,0,2,1]\n",
    "m[4] = [1,0,0,2,0,4,0,0,6]\n",
    "m[5] = [6,8,0,0,0,0,0,4,5]\n",
    "\n",
    "m[6] = [0,0,0,0,8,6,3,0,0]\n",
    "m[7] = [3,0,0,0,0,5,0,9,0]\n",
    "m[8] = [0,0,0,0,0,0,0,5,4]\n",
    "\n",
    "m"
   ]
  },
  {
   "cell_type": "code",
   "execution_count": 23,
   "id": "44def281-147e-4a8a-95c9-9d353202b4c5",
   "metadata": {},
   "outputs": [
    {
     "data": {
      "text/plain": [
       "[[7, 2, 1, 8, 4, 9, 5, 6, 3],\n",
       " [8, 3, 4, 5, 6, 2, 1, 7, 9],\n",
       " [5, 6, 9, 3, 7, 1, 4, 8, 2],\n",
       " [4, 9, 3, 6, 5, 8, 7, 2, 1],\n",
       " [1, 5, 7, 2, 9, 4, 8, 3, 6],\n",
       " [6, 8, 2, 1, 3, 7, 9, 4, 5],\n",
       " [2, 4, 5, 9, 8, 6, 3, 1, 7],\n",
       " [3, 7, 6, 4, 1, 5, 2, 9, 8],\n",
       " [9, 1, 8, 7, 2, 3, 6, 5, 4]]"
      ]
     },
     "execution_count": 23,
     "metadata": {},
     "output_type": "execute_result"
    }
   ],
   "source": [
    "m, done = solve_matrix(m)\n",
    "m"
   ]
  },
  {
   "cell_type": "code",
   "execution_count": 24,
   "id": "884a74d7-9e6d-4490-8a23-73f48078502c",
   "metadata": {},
   "outputs": [
    {
     "data": {
      "text/plain": [
       "True"
      ]
     },
     "execution_count": 24,
     "metadata": {},
     "output_type": "execute_result"
    }
   ],
   "source": [
    "done"
   ]
  },
  {
   "cell_type": "code",
   "execution_count": 25,
   "id": "95159ac0-989d-412c-8ad4-7502f5e36e21",
   "metadata": {},
   "outputs": [],
   "source": [
    "import random"
   ]
  },
  {
   "cell_type": "code",
   "execution_count": 26,
   "id": "0647b0c3-6a1b-42c9-b2e0-849193ae61e8",
   "metadata": {},
   "outputs": [],
   "source": [
    "def generate_grid(qty, seed):\n",
    "    random.seed(seed)\n",
    "    mat = [([0]*9) for i in range(9)]\n",
    "\n",
    "    for nb in range(qty):\n",
    "        valid = False\n",
    "        while not valid:\n",
    "            x = random.randint(0, 8)\n",
    "            y = random.randint(0, 8)\n",
    "            if mat[x][y] == 0:\n",
    "                try:\n",
    "                    mat[x][y] = random.choice(simple_check(mat, x, y))\n",
    "                    valid = True\n",
    "                except:\n",
    "                    valid = False\n",
    "    return mat"
   ]
  },
  {
   "cell_type": "code",
   "execution_count": 27,
   "id": "6c46984d-5543-4988-8bbd-1d6c2659d3e0",
   "metadata": {},
   "outputs": [
    {
     "data": {
      "text/plain": [
       "[[0, 0, 0, 0, 0, 0, 0, 6, 0],\n",
       " [5, 0, 0, 4, 0, 0, 1, 0, 2],\n",
       " [0, 0, 0, 9, 0, 0, 0, 0, 0],\n",
       " [0, 0, 0, 3, 0, 0, 0, 7, 6],\n",
       " [3, 0, 0, 0, 0, 0, 0, 0, 0],\n",
       " [0, 2, 0, 0, 9, 0, 0, 0, 0],\n",
       " [1, 5, 0, 0, 0, 6, 0, 0, 0],\n",
       " [0, 0, 0, 0, 0, 0, 0, 0, 0],\n",
       " [7, 0, 0, 0, 8, 0, 0, 0, 0]]"
      ]
     },
     "execution_count": 27,
     "metadata": {},
     "output_type": "execute_result"
    }
   ],
   "source": [
    "m = generate_grid(17, 42)\n",
    "m"
   ]
  },
  {
   "cell_type": "code",
   "execution_count": 35,
   "id": "b01ab732-0e36-466b-a4c5-c1d8e32d6a85",
   "metadata": {},
   "outputs": [],
   "source": [
    "def generate_valid_grid(qty):\n",
    "    done = False\n",
    "    seed = 0\n",
    "    while not done:\n",
    "        mat = generate_grid(qty, seed)\n",
    "        solved_mat, done = solve_matrix(mat)\n",
    "        seed += 1\n",
    "    return mat, seed\n",
    "\n",
    "m, i = generate_valid_grid(35)"
   ]
  },
  {
   "cell_type": "code",
   "execution_count": 36,
   "id": "fa1fd6d1-9228-42d7-b974-055cd1eae49f",
   "metadata": {},
   "outputs": [
    {
     "data": {
      "text/plain": [
       "[[0, 0, 6, 0, 0, 0, 7, 0, 5],\n",
       " [0, 7, 9, 5, 2, 4, 0, 6, 0],\n",
       " [8, 0, 3, 0, 0, 1, 0, 9, 4],\n",
       " [5, 3, 0, 4, 9, 6, 0, 2, 0],\n",
       " [7, 6, 1, 0, 0, 0, 0, 4, 0],\n",
       " [4, 0, 0, 0, 0, 0, 0, 0, 3],\n",
       " [0, 2, 0, 0, 0, 0, 4, 0, 0],\n",
       " [3, 0, 0, 1, 0, 2, 8, 0, 0],\n",
       " [0, 0, 0, 0, 4, 8, 0, 0, 2]]"
      ]
     },
     "execution_count": 36,
     "metadata": {},
     "output_type": "execute_result"
    }
   ],
   "source": [
    "m"
   ]
  },
  {
   "cell_type": "code",
   "execution_count": 37,
   "id": "4cc8e591-e49e-4339-90fe-26d824decb8a",
   "metadata": {},
   "outputs": [
    {
     "data": {
      "text/plain": [
       "([[2, 4, 6, 8, 3, 9, 7, 1, 5],\n",
       "  [1, 7, 9, 5, 2, 4, 3, 6, 8],\n",
       "  [8, 5, 3, 6, 7, 1, 2, 9, 4],\n",
       "  [5, 3, 8, 4, 9, 6, 1, 2, 7],\n",
       "  [7, 6, 1, 2, 8, 3, 5, 4, 9],\n",
       "  [4, 9, 2, 7, 1, 5, 6, 8, 3],\n",
       "  [6, 2, 8, 9, 5, 7, 4, 3, 1],\n",
       "  [3, 5, 4, 1, 6, 2, 8, 7, 9],\n",
       "  [9, 1, 7, 3, 4, 8, 6, 5, 2]],\n",
       " True)"
      ]
     },
     "execution_count": 37,
     "metadata": {},
     "output_type": "execute_result"
    }
   ],
   "source": [
    "solve_matrix(m)"
   ]
  },
  {
   "cell_type": "code",
   "execution_count": null,
   "id": "208e7eef-92ab-4a66-80b0-f632d94099b9",
   "metadata": {},
   "outputs": [],
   "source": []
  }
 ],
 "metadata": {
  "kernelspec": {
   "display_name": "Python 3 (ipykernel)",
   "language": "python",
   "name": "python3"
  },
  "language_info": {
   "codemirror_mode": {
    "name": "ipython",
    "version": 3
   },
   "file_extension": ".py",
   "mimetype": "text/x-python",
   "name": "python",
   "nbconvert_exporter": "python",
   "pygments_lexer": "ipython3",
   "version": "3.10.12"
  }
 },
 "nbformat": 4,
 "nbformat_minor": 5
}
